{
 "cells": [
  {
   "cell_type": "code",
   "execution_count": null,
   "id": "de8ae5ac",
   "metadata": {},
   "outputs": [],
   "source": [
    "import pandas as pd \n",
    "import matplotlib.pyplot as plt"
   ]
  },
  {
   "cell_type": "code",
   "execution_count": null,
   "id": "5da61dec",
   "metadata": {},
   "outputs": [],
   "source": [
    "data_daywise = pd.read_csv(r\"E:\\timeseries\\dataDumpDayItemandRateWise.csv\")\n",
    "data_voucherwise = pd.read_csv(r\"E:\\timeseries\\dataDumpVoucherWise.csv\")"
   ]
  },
  {
   "cell_type": "code",
   "execution_count": null,
   "id": "d91bab56",
   "metadata": {},
   "outputs": [],
   "source": [
    "data_daywise.head()\n"
   ]
  },
  {
   "cell_type": "code",
   "execution_count": null,
   "id": "653d12f2",
   "metadata": {},
   "outputs": [],
   "source": [
    "data_voucherwise.head()"
   ]
  },
  {
   "cell_type": "code",
   "execution_count": null,
   "id": "a69b7e38",
   "metadata": {},
   "outputs": [],
   "source": [
    "data_daywise.info()"
   ]
  },
  {
   "cell_type": "code",
   "execution_count": null,
   "id": "fe2d68f2",
   "metadata": {},
   "outputs": [],
   "source": [
    "data_daywise['mainGroup'].unique()"
   ]
  },
  {
   "cell_type": "code",
   "execution_count": null,
   "id": "f5feb318",
   "metadata": {},
   "outputs": [],
   "source": [
    "data_daywise['mainCategory'].unique()"
   ]
  },
  {
   "cell_type": "code",
   "execution_count": null,
   "id": "662185da",
   "metadata": {},
   "outputs": [],
   "source": [
    "data_daywise['itemCategory'].unique()"
   ]
  },
  {
   "cell_type": "code",
   "execution_count": null,
   "id": "06933549",
   "metadata": {},
   "outputs": [],
   "source": [
    "data_daywise['quantity'].describe()"
   ]
  },
  {
   "cell_type": "code",
   "execution_count": null,
   "id": "ea5cd151",
   "metadata": {},
   "outputs": [],
   "source": [
    "df_filter = data_daywise[data_daywise['quantity']== -1790]\n",
    "df_filter.head()"
   ]
  },
  {
   "cell_type": "code",
   "execution_count": null,
   "id": "9776f5ce",
   "metadata": {},
   "outputs": [],
   "source": [
    "data_daywise[\"sign\"] = data_daywise[\"quantity\"].apply(lambda x: \"Return\" if x < 0 else \"Sale\")\n",
    "\n",
    "data_daywise[\"sign\"].value_counts().plot(kind=\"bar\")\n",
    "plt.title(\"Sales vs Returns\")\n",
    "plt.ylabel(\"Count\")\n",
    "plt.show()\n"
   ]
  },
  {
   "cell_type": "code",
   "execution_count": null,
   "id": "80312f61",
   "metadata": {},
   "outputs": [],
   "source": [
    "category_counts = df2['itemCategory'].value_counts()\n",
    "print(category_counts)"
   ]
  },
  {
   "cell_type": "code",
   "execution_count": null,
   "id": "7b8faf09",
   "metadata": {},
   "outputs": [],
   "source": []
  },
  {
   "cell_type": "code",
   "execution_count": null,
   "id": "6e2bf183",
   "metadata": {},
   "outputs": [],
   "source": []
  },
  {
   "cell_type": "code",
   "execution_count": null,
   "id": "4253b7de",
   "metadata": {},
   "outputs": [],
   "source": []
  },
  {
   "cell_type": "code",
   "execution_count": null,
   "id": "a9c15d03",
   "metadata": {},
   "outputs": [],
   "source": []
  },
  {
   "cell_type": "code",
   "execution_count": null,
   "id": "6984cc95",
   "metadata": {},
   "outputs": [],
   "source": []
  },
  {
   "cell_type": "code",
   "execution_count": null,
   "id": "776f1f1f",
   "metadata": {},
   "outputs": [],
   "source": []
  },
  {
   "cell_type": "code",
   "execution_count": null,
   "id": "12c7fa48",
   "metadata": {},
   "outputs": [],
   "source": []
  },
  {
   "cell_type": "code",
   "execution_count": null,
   "id": "5f6cc9f9",
   "metadata": {},
   "outputs": [],
   "source": []
  },
  {
   "cell_type": "code",
   "execution_count": null,
   "id": "4e2befc6",
   "metadata": {},
   "outputs": [],
   "source": []
  }
 ],
 "metadata": {
  "kernelspec": {
   "display_name": ".venv",
   "language": "python",
   "name": "python3"
  },
  "language_info": {
   "name": "python",
   "version": "3.12.3"
  }
 },
 "nbformat": 4,
 "nbformat_minor": 5
}
